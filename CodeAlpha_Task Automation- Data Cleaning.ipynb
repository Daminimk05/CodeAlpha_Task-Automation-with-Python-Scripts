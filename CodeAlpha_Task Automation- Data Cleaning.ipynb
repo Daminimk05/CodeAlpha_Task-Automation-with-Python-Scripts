{
 "cells": [
  {
   "cell_type": "code",
   "execution_count": 5,
   "id": "2264d7d0-5698-457e-8e10-dc12a48bb83e",
   "metadata": {},
   "outputs": [
    {
     "name": "stdout",
     "output_type": "stream",
     "text": [
      "Data has been cleaned and saved to cleaned_geographic-units-by-industry-and-statistical-area-2000-2023-descending-order-february-2023-checkpoint.csv.\n"
     ]
    }
   ],
   "source": [
    "import pandas as pd\n",
    "\n",
    "# Read the CSV file\n",
    "df = pd.read_csv('geographic-units-by-industry-and-statistical-area-2000-2023-descending-order-february-2023-checkpoint.csv')\n",
    "\n",
    "# Drop rows with missing values\n",
    "df_cleaned = df.dropna()\n",
    "\n",
    "# Standardize column names to lowercase\n",
    "df_cleaned.columns = df_cleaned.columns.str.lower()\n",
    "\n",
    "# Remove any leading/trailing spaces in string columns\n",
    "df_cleaned = df_cleaned.apply(lambda x: x.str.strip() if x.dtype == \"object\" else x)\n",
    "\n",
    "# Save the cleaned data\n",
    "df_cleaned.to_csv('cleaned_geographic-units-by-industry-and-statistical-area-2000-2023-descending-order-february-2023-checkpoint.csv', index=False)\n",
    "\n",
    "print(\"Data has been cleaned and saved to cleaned_geographic-units-by-industry-and-statistical-area-2000-2023-descending-order-february-2023-checkpoint.csv.\")\n"
   ]
  },
  {
   "cell_type": "code",
   "execution_count": null,
   "id": "7a62289a-7c2c-4631-8929-9293fe71d20f",
   "metadata": {},
   "outputs": [],
   "source": []
  }
 ],
 "metadata": {
  "kernelspec": {
   "display_name": "Python 3 (ipykernel)",
   "language": "python",
   "name": "python3"
  },
  "language_info": {
   "codemirror_mode": {
    "name": "ipython",
    "version": 3
   },
   "file_extension": ".py",
   "mimetype": "text/x-python",
   "name": "python",
   "nbconvert_exporter": "python",
   "pygments_lexer": "ipython3",
   "version": "3.12.4"
  }
 },
 "nbformat": 4,
 "nbformat_minor": 5
}
